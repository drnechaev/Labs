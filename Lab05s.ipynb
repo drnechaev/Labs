{
 "cells": [
  {
   "cell_type": "code",
   "execution_count": 1,
   "metadata": {
    "scrolled": false
   },
   "outputs": [
    {
     "name": "stdout",
     "output_type": "stream",
     "text": [
      "Welcome to\n",
      "      ____              __\n",
      "     / __/__  ___ _____/ /__\n",
      "    _\\ \\/ _ \\/ _ `/ __/  '_/\n",
      "   /__ / .__/\\_,_/_/ /_/\\_\\   version 2.3.2.3.1.4.0-315\n",
      "      /_/\n",
      "\n",
      "Using Python version 3.6.5 (default, Apr 29 2018 16:14:56)\n",
      "SparkSession available as 'spark'.\n"
     ]
    }
   ],
   "source": [
    "\n",
    "import os, sys\n",
    "\n",
    "os.environ[\"PYSPARK_PYTHON\"]='/opt/anaconda/envs/bd9/bin/python'\n",
    "os.environ[\"SPARK_HOME\"]='/usr/hdp/current/spark2-client'\n",
    "os.environ[\"PYSPARK_SUBMIT_ARGS\"]='--num-executors 3 --repositories https://repos.spark-packages.org/ pyspark-shell '\n",
    "spark_home = os.environ.get('SPARK_HOME', None)\n",
    "if not spark_home:\n",
    "    raise ValueError('SPARK_HOME environment variable is not set')\n",
    "sys.path.insert(0, os.path.join(spark_home, 'python'))\n",
    "sys.path.insert(0, os.path.join(spark_home, 'python/lib/py4j-0.10.4-src.zip'))\n",
    "os.environ[\"PYSPARK_PYTHON\"] = 'python3'\n",
    "exec(open(os.path.join(spark_home, 'python/pyspark/shell.py')).read())"
   ]
  },
  {
   "cell_type": "code",
   "execution_count": 2,
   "metadata": {},
   "outputs": [],
   "source": [
    "from pyspark.sql.types import StructType,StructField, StringType, IntegerType"
   ]
  },
  {
   "cell_type": "code",
   "execution_count": 3,
   "metadata": {
    "scrolled": false
   },
   "outputs": [],
   "source": [
    "k = 10\n",
    "w_score = [3.291, u'99,90%']\n",
    "\n",
    "z = 3.291\n"
   ]
  },
  {
   "cell_type": "code",
   "execution_count": 4,
   "metadata": {},
   "outputs": [],
   "source": [
    "\n",
    "schema = StructType([ \\\n",
    "    StructField(\"id_rating\",IntegerType(),True), \\\n",
    "    StructField(\"film_id\",StringType(),True), \\\n",
    "    StructField(\"Rating\",IntegerType(),True), \\\n",
    "    StructField(\"Userid\", IntegerType(), True)\n",
    "  ])"
   ]
  },
  {
   "cell_type": "code",
   "execution_count": 5,
   "metadata": {},
   "outputs": [],
   "source": [
    "df = spark.read.csv(\n",
    "    'hdfs:/labs/lab05data/ml-100k/u.data',\n",
    "    schema=schema, header=False, sep='\\t')"
   ]
  },
  {
   "cell_type": "code",
   "execution_count": 6,
   "metadata": {},
   "outputs": [],
   "source": [
    "from pyspark.sql import functions as F"
   ]
  },
  {
   "cell_type": "code",
   "execution_count": 8,
   "metadata": {},
   "outputs": [],
   "source": [
    "films_group = df.groupBy('film_id').agg(F.count('film_id').alias('p1'),F.sum('Rating').alias('rs')) \\\n",
    "    .withColumn('p2',(F.col('rs')/F.col('p1')))"
   ]
  },
  {
   "cell_type": "code",
   "execution_count": 9,
   "metadata": {},
   "outputs": [],
   "source": [
    "film_pos = df.filter(\"Rating>3\").groupBy('film_id').count().withColumnRenamed(\"count\",\"p3\")"
   ]
  },
  {
   "cell_type": "code",
   "execution_count": 10,
   "metadata": {},
   "outputs": [],
   "source": [
    "film_pos = film_pos.join(films_group,'film_id','inner').withColumn('p4',(F.col('p3')/F.col('p1')))"
   ]
  },
  {
   "cell_type": "code",
   "execution_count": 13,
   "metadata": {},
   "outputs": [],
   "source": [
    "from pyspark.sql.functions import mean"
   ]
  },
  {
   "cell_type": "code",
   "execution_count": 14,
   "metadata": {},
   "outputs": [],
   "source": [
    "Mu = df.select(mean('Rating')).collect()[0][0]"
   ]
  },
  {
   "cell_type": "code",
   "execution_count": 15,
   "metadata": {},
   "outputs": [],
   "source": [
    "films_group = df.groupBy('film_id').agg(F.count('film_id').alias('p1'),F.sum('Rating').alias('rs')) \\\n",
    "    .withColumn('p6',((F.col('rs')+k*Mu)/(F.col('p1')+k))).drop(\"p1\",\"rs\")"
   ]
  },
  {
   "cell_type": "code",
   "execution_count": 16,
   "metadata": {},
   "outputs": [],
   "source": [
    "film_pos = film_pos.join(films_group,\"film_id\",\"inner\")"
   ]
  },
  {
   "cell_type": "code",
   "execution_count": 19,
   "metadata": {},
   "outputs": [],
   "source": [
    "from pyspark.sql.functions import sqrt"
   ]
  },
  {
   "cell_type": "code",
   "execution_count": 45,
   "metadata": {},
   "outputs": [],
   "source": [
    "#  \n",
    "#(phat + z*z/(2*n) - z * sqrt(    (phat* (1-phat) +z*z/(4*n))/n          )  )  \n",
    "#/  (1+z*z/n)            \n",
    "z2 = z*z\n",
    "\n",
    "\n",
    "wils = film_pos.withColumn(\"wilson_part3\", ( \\\n",
    "        ( 1+z2/F.col(\"p1\")\n",
    "        )))\n",
    "\n",
    "wils = wils.withColumn(\"wilson_part2\", ( \\\n",
    "        ( F.col(\"p4\")*(1-F.col(\"p4\"))+z2/(4*F.col(\"p1\")))/F.col(\"p1\") ))\n",
    "\n"
   ]
  },
  {
   "cell_type": "code",
   "execution_count": 46,
   "metadata": {},
   "outputs": [],
   "source": [
    "wils = wils.withColumn(\"wilson_lower\", ( \\\n",
    "       ( F.col(\"p4\")+z2/(2*F.col(\"p1\")) - z *sqrt( F.col(\"wilson_part2\")) ) / F.col(\"wilson_part3\"))) \\\n",
    "        .drop(\"wilson_part3\",\"wilson_part2\")"
   ]
  },
  {
   "cell_type": "code",
   "execution_count": 29,
   "metadata": {},
   "outputs": [],
   "source": [
    "fi = spark.read.csv(\n",
    "    'hdfs:/labs/lab05data/ml-100k/u.item',\n",
    "     header=False, sep='|')\n",
    "fi = fi.select(\"_c0\",\"_c1\").withColumnRenamed(\"_c0\",\"film_id\").withColumnRenamed(\"_c1\",\"film_name\")"
   ]
  },
  {
   "cell_type": "code",
   "execution_count": 30,
   "metadata": {},
   "outputs": [],
   "source": [
    "wils = wils.join(fi,\"film_id\").drop(\"wilsom_part2\")"
   ]
  },
  {
   "cell_type": "code",
   "execution_count": 32,
   "metadata": {},
   "outputs": [],
   "source": [
    "result = {\"top10_rates\":[], \"top10_average\":[], \"top10_rating\":[], \"top10_lower\":[]}"
   ]
  },
  {
   "cell_type": "code",
   "execution_count": 38,
   "metadata": {},
   "outputs": [],
   "source": [
    "result[\"top10_rates\"] = [int(row['film_id']) for row in wils.sort(F.col(\"p1\").desc(),F.col(\"film_name\").asc()).select(\"film_id\").limit(10).collect()]"
   ]
  },
  {
   "cell_type": "code",
   "execution_count": 34,
   "metadata": {},
   "outputs": [],
   "source": [
    "result[\"top10_average\"] = [int(row['film_id']) for row in wils.sort(F.col(\"p2\").desc(),F.col(\"film_name\").asc()).select(\"film_id\").limit(10).collect()]"
   ]
  },
  {
   "cell_type": "code",
   "execution_count": 39,
   "metadata": {},
   "outputs": [],
   "source": [
    "result[\"top10_rating\"] = [int(row['film_id']) for row in wils.sort(F.col(\"p6\").desc(),F.col(\"film_name\").asc()).select(\"film_id\").limit(10).collect()]"
   ]
  },
  {
   "cell_type": "code",
   "execution_count": 36,
   "metadata": {},
   "outputs": [],
   "source": [
    "result[\"top10_lower\"] = [int(row['film_id']) for row in wils.sort(F.col(\"wilson_lower\").desc(),F.col(\"film_name\").asc()).select(\"film_id\").limit(10).collect()]"
   ]
  },
  {
   "cell_type": "code",
   "execution_count": 40,
   "metadata": {},
   "outputs": [
    {
     "data": {
      "text/plain": [
       "{'top10_rates': [50, 258, 100, 181, 294, 286, 288, 1, 300, 121],\n",
       " 'top10_average': [1536, 1653, 814, 1201, 1189, 1467, 1500, 1599, 1293, 1122],\n",
       " 'top10_rating': [318, 483, 64, 408, 169, 12, 603, 50, 114, 178],\n",
       " 'top10_lower': [64, 98, 318, 479, 50, 483, 603, 427, 357, 12]}"
      ]
     },
     "execution_count": 40,
     "metadata": {},
     "output_type": "execute_result"
    }
   ],
   "source": [
    "result"
   ]
  },
  {
   "cell_type": "code",
   "execution_count": 41,
   "metadata": {},
   "outputs": [],
   "source": [
    "import json\n",
    "with open(\"lab05s.json\", \"w\") as outfile:\n",
    "    json.dump(result, outfile)"
   ]
  }
 ],
 "metadata": {
  "kernelspec": {
   "display_name": "Python 3",
   "language": "python",
   "name": "python3"
  },
  "language_info": {
   "codemirror_mode": {
    "name": "ipython",
    "version": 3
   },
   "file_extension": ".py",
   "mimetype": "text/x-python",
   "name": "python",
   "nbconvert_exporter": "python",
   "pygments_lexer": "ipython3",
   "version": "3.6.5"
  }
 },
 "nbformat": 4,
 "nbformat_minor": 2
}
